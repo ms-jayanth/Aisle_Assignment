{
 "cells": [
  {
   "cell_type": "markdown",
   "id": "695abcb8",
   "metadata": {},
   "source": [
    "## Assignment"
   ]
  },
  {
   "cell_type": "markdown",
   "id": "c24fe16d",
   "metadata": {},
   "source": [
    "#### Basic sales tax is applicable at a rate of 10% on all goods, except books, food, and medical products that are exempt. Import duty is an additional sales tax applicable on all imported goods at a rate of 5%, with no exemptions. \n",
    "\n",
    "\n",
    "\n",
    "#### When I purchase items I receive a receipt which lists the name of all the items and their price (including tax), finishing with the total cost of the items, and the total amounts of sales taxes paid. The rounding rules for sales tax are that for a tax rate of n%, a shelf price of p contains (np/100 rounded up to the nearest 0.05) amount of sales tax. "
   ]
  },
  {
   "cell_type": "code",
   "execution_count": 1,
   "id": "08e1ebc6",
   "metadata": {},
   "outputs": [],
   "source": [
    "from math import ceil"
   ]
  },
  {
   "cell_type": "code",
   "execution_count": 2,
   "id": "131de923",
   "metadata": {},
   "outputs": [],
   "source": [
    "def sales_tax(item_lists):\n",
    "    exempt_products=['book','food','meds','chocolates','chocolate','pills']\n",
    "    \n",
    "    final_price =[]\n",
    "    prod_price = 0\n",
    "    total_price = 0\n",
    "    rnd = 20\n",
    "    \n",
    "    for item in item_lists:\n",
    "        token_items=item.split()\n",
    "        token_items=[x.replace(' ',' ') for x in token_items]\n",
    "        \n",
    "        exempt_flag=False\n",
    "        \n",
    "        for item in token_items:\n",
    "            if item in exempt_products:\n",
    "                exempt_flag=True\n",
    "                \n",
    "        if exempt_flag:\n",
    "            prod_price += float(token_items[-1])\n",
    "            each_item_price = float(token_items[-1])/float(token_items[0])\n",
    "            tax = (float(token_items[-1]) * 0)+float(token_items[-1])\n",
    "            new_price = tax * float(token_items[0])\n",
    "            new_price = ceil(round(new_price, 2) * rnd) / rnd\n",
    "            total_price += new_price\n",
    "            tempstr = ' '.join(token_items[:-1])\n",
    "            print( tempstr+' ' + str(new_price))\n",
    "            final_price.append(new_price)\n",
    "            \n",
    "        elif 'imported' in token_items:\n",
    "            prod_price += float(token_items[-1])\n",
    "            each_item_price = float(token_items[-1])/float(token_items[0])\n",
    "            tax = (float(token_items[-1]) * 0.15)+float(token_items[-1])\n",
    "            new_price = tax * float(token_items[0])\n",
    "            new_price = ceil(round(new_price, 2) * rnd) / rnd\n",
    "            total_price += new_price\n",
    "            tempstr = ' '.join(token_items[:-1])\n",
    "            print( tempstr+' ' + str(new_price))\n",
    "            final_price.append(new_price)\n",
    "            \n",
    "        else:\n",
    "            prod_price += float(token_items[-1])\n",
    "            each_item_price = float(token_items[-1])/float(token_items[0])\n",
    "            tax = (float(token_items[-1]) * 0.10)+float(token_items[-1])\n",
    "            new_price = tax * float(token_items[0])\n",
    "            new_price = ceil(round(new_price, 2) * rnd) / rnd\n",
    "            total_price += new_price\n",
    "            tempstr = ' '.join(token_items[:-1])\n",
    "            print( tempstr+' ' + str(new_price))\n",
    "            final_price.append(new_price)\n",
    "            \n",
    "    print('Sales taxes:',round((ceil(round(total_price, 2) * rnd) / rnd)-prod_price,2))\n",
    "    print('Total:',ceil(round(total_price, 2) * rnd) / rnd)   "
   ]
  },
  {
   "cell_type": "markdown",
   "id": "b17fd44e",
   "metadata": {},
   "source": [
    "## Result"
   ]
  },
  {
   "cell_type": "markdown",
   "id": "76bff82a",
   "metadata": {},
   "source": [
    "### Problem:1"
   ]
  },
  {
   "cell_type": "code",
   "execution_count": 3,
   "id": "7ccf54b1",
   "metadata": {},
   "outputs": [
    {
     "name": "stdout",
     "output_type": "stream",
     "text": [
      "1 book at 12.5\n",
      "1 music CD at 16.5\n",
      "1 chocolate bar at 0.85\n",
      "Sales taxes: 1.52\n",
      "Total: 29.85\n"
     ]
    }
   ],
   "source": [
    "item_lists = ['1 book at 12.49','1 music CD at 14.99','1 chocolate bar at 0.85'] \n",
    "sales_tax(item_lists)"
   ]
  },
  {
   "cell_type": "markdown",
   "id": "a123ceb0",
   "metadata": {},
   "source": [
    "### Problem:2"
   ]
  },
  {
   "cell_type": "code",
   "execution_count": 4,
   "id": "91e7db12",
   "metadata": {},
   "outputs": [
    {
     "name": "stdout",
     "output_type": "stream",
     "text": [
      "1 imported box of chocolates at 10.0\n",
      "1 imported bottle of perfume at 54.65\n",
      "Sales taxes: 7.15\n",
      "Total: 64.65\n"
     ]
    }
   ],
   "source": [
    "item_lists = ['1 imported box of chocolates at 10.00',' 1 imported bottle of perfume at 47.50 '] \n",
    "sales_tax(item_lists)"
   ]
  },
  {
   "cell_type": "markdown",
   "id": "ec7f22ca",
   "metadata": {},
   "source": [
    "### Problem:3"
   ]
  },
  {
   "cell_type": "code",
   "execution_count": 5,
   "id": "4b4cc544",
   "metadata": {},
   "outputs": [
    {
     "name": "stdout",
     "output_type": "stream",
     "text": [
      "1 imported bottle of perfume at 32.2\n",
      "1 bottle of perfume at 20.9\n",
      "1 packet of headache pills at 9.75\n",
      "1 box of imported chocolates at 11.25\n",
      "Sales taxes: 6.12\n",
      "Total: 74.1\n"
     ]
    }
   ],
   "source": [
    "item_lists = ['1 imported bottle of perfume at 27.99',' 1 bottle of perfume at 18.99','1 packet of headache pills at 9.75','1 box of imported chocolates at 11.25' ] \n",
    "sales_tax(item_lists)"
   ]
  }
 ],
 "metadata": {
  "kernelspec": {
   "display_name": "Python 3 (ipykernel)",
   "language": "python",
   "name": "python3"
  },
  "language_info": {
   "codemirror_mode": {
    "name": "ipython",
    "version": 3
   },
   "file_extension": ".py",
   "mimetype": "text/x-python",
   "name": "python",
   "nbconvert_exporter": "python",
   "pygments_lexer": "ipython3",
   "version": "3.9.7"
  }
 },
 "nbformat": 4,
 "nbformat_minor": 5
}
